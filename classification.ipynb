{
  "nbformat": 4,
  "nbformat_minor": 0,
  "metadata": {
    "colab": {
      "provenance": [],
      "authorship_tag": "ABX9TyOqz0XrGygqpuu+ldF0BNQW",
      "include_colab_link": true
    },
    "kernelspec": {
      "name": "python3",
      "display_name": "Python 3"
    },
    "language_info": {
      "name": "python"
    }
  },
  "cells": [
    {
      "cell_type": "markdown",
      "metadata": {
        "id": "view-in-github",
        "colab_type": "text"
      },
      "source": [
        "<a href=\"https://colab.research.google.com/github/Elwing-Chou/tibaml0315/blob/main/classification.ipynb\" target=\"_parent\"><img src=\"https://colab.research.google.com/assets/colab-badge.svg\" alt=\"Open In Colab\"/></a>"
      ]
    },
    {
      "cell_type": "markdown",
      "source": [
        "1. scikit-learn: sklearn 機器學習\n",
        "2. pandas: 表格處理\n",
        "3. numpy: 多維陣列函式庫\n",
        "4. opencv: 影像處理/AI函式庫\n",
        "5. Pillow(PIL): 影像處理"
      ],
      "metadata": {
        "id": "r62XK2ZEywBT"
      }
    },
    {
      "cell_type": "markdown",
      "source": [
        "資料量需求\n",
        "1. 機器學習: 1k-1w以上\n",
        "2. 深度學習: 1w-10w以上\n",
        "\n",
        "題目難度 <-> 資料需求\n",
        "1. 簡單: 少點ok\n",
        "2. 難: 多一點\n",
        "\n",
        "題目難度可以參考欄位數目"
      ],
      "metadata": {
        "id": "lWzJXXnb4o4M"
      }
    },
    {
      "cell_type": "code",
      "execution_count": null,
      "metadata": {
        "id": "8m1PYgwzykKn"
      },
      "outputs": [],
      "source": [
        "import pandas as pd\n",
        "from sklearn.datasets import load_iris\n",
        "iris = load_iris()\n",
        "x = pd.DataFrame(iris[\"data\"], columns=iris[\"feature_names\"])\n",
        "y = iris[\"target\"]\n",
        "# 順便複習\n",
        "total = x[:]\n",
        "total[\"ans\"] = iris[\"target\"]\n",
        "total.to_csv(\"iris.csv\", index=False, encoding=\"utf-8\")"
      ]
    },
    {
      "cell_type": "markdown",
      "source": [
        "先把你的資料分成兩分: 一份訓練/一份驗證\n",
        "\n",
        "進到sklearn以前: pd.DataFrame\n",
        "\n",
        "進到sklearn以後(train_test_split): np.array"
      ],
      "metadata": {
        "id": "IOVOqlWG9hpI"
      }
    },
    {
      "cell_type": "code",
      "source": [
        "import numpy as np\n",
        "from sklearn.model_selection import train_test_split\n",
        "# train_test_split([1, 2, 3, 4], [5, 6, 7, 8], [9, 10, 11, 12], test_size=1)\n",
        "x_np = np.array(x)\n",
        "y_np = np.array(y)\n",
        "# 90%xnp, 10%xnp, 90%ynp, 10%ynp\n",
        "x_train, x_test, y_train, y_test = train_test_split(x_np, y_np, test_size=0.1)\n",
        "print(x_train.shape)\n",
        "print(x_test.shape)\n",
        "print(y_train.shape)\n",
        "print(y_test.shape)"
      ],
      "metadata": {
        "colab": {
          "base_uri": "https://localhost:8080/"
        },
        "id": "rqypGZ1m9hO6",
        "outputId": "9f4d60df-ced4-449e-ab28-f1f376034311"
      },
      "execution_count": 17,
      "outputs": [
        {
          "output_type": "stream",
          "name": "stdout",
          "text": [
            "(135, 4)\n",
            "(15, 4)\n",
            "(135,)\n",
            "(15,)\n"
          ]
        }
      ]
    }
  ]
}